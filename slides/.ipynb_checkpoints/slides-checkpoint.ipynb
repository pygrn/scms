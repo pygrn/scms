{
 "cells": [
  {
   "cell_type": "markdown",
   "metadata": {
    "collapsed": true,
    "slideshow": {
     "slide_type": "slide"
    }
   },
   "source": [
    "<CENTER>\n",
    "<img src=\"https://secure.meetupstatic.com/photos/theme_head/d/9/1/7/full_7435575.jpeg\" width=\"100%\">\n",
    "\n",
    "  <header>\n",
    "    <h1>Gestors de continguts estàtics</h1>\n",
    "    <h3>21 Febrer 2018</h3>\n",
    "    <h3><a href=\"https://twitter.com/victormartin\">@victormartin</a> | <a href=\"https://twitter.com/gnuites_and\">@gnuites_and</a></h3>\n",
    "    <p></p>\n",
    "  </header>\n",
    "</CENTER>"
   ]
  },
  {
   "cell_type": "markdown",
   "metadata": {
    "slideshow": {
     "slide_type": "slide"
    }
   },
   "source": [
    "\n",
    "# Contingut d'aquesta xerrada\n",
    "\n",
    "- Què son els gestors de continguts (CMS)?\n",
    "- Avantatges i inconvenients dels CMS\n",
    "- Què son els gestors de continguts estàtics (SCMS)?\n",
    "- Avantatges i inconvenients dels SCMS\n",
    "- Principals projectes\n",
    "- Introducció al SCMS Pelican\n",
    "- Demostració de pàgina generada amb Pelican\n",
    "- TALLER PRÀCTIC\n",
    "\n",
    "Material publicat al repo https://github.com/pygrn/scms \n",
    "\n",
    "Per veure aquest notebook en format de presentació (Reveal.js):\n",
    "\n",
    "```bash\n",
    "$jupyter nbconvert slides.ipynb --to slides --post serve\n",
    "```"
   ]
  },
  {
   "cell_type": "markdown",
   "metadata": {
    "slideshow": {
     "slide_type": "slide"
    }
   },
   "source": [
    "# ¿Què son els gestors de continguts (CMS)? (1/2)\n",
    "\n",
    "__Software__ per a crear i administrar continguts (principalment pàgines web) sense necessitat de tocar codi.\n",
    "\n",
    "Lluny queden els dies on les empreses havíen de trucar al _webmaster_, que era una figura tècnica que els hi \"programaba\" els canvis al seu web."
   ]
  },
  {
   "cell_type": "markdown",
   "metadata": {
    "slideshow": {
     "slide_type": "subslide"
    }
   },
   "source": [
    "# ¿Què son els gestors de continguts (CMS)? (2/2)\n",
    "\n",
    "Segons [w3techs.com](https://w3techs.com/technologies/overview/content_management/all)el __49.8%__ de les webs d'Internet utilitzen un CMS\n",
    "\n",
    "<br><br>\n",
    "\n",
    "| CMS | Percentatge d'ús | Market share |\n",
    "| --- | --- | --- |\n",
    "| Sense CMS | 51.1%| - |\n",
    "| Wordpress | 29.3%| 60.0%|\n",
    "| Joomla | 3.2%| 6.5%|\n",
    "| Drupal | 2.3%| 4.6%|\n",
    "| Magento | 1.2%| 2.5%|\n",
    "| Altres | 12.9%| 26.4%|"
   ]
  },
  {
   "cell_type": "markdown",
   "metadata": {
    "slideshow": {
     "slide_type": "slide"
    }
   },
   "source": [
    "# Avantatges i inconvenients dels CMS\n",
    "\n",
    "## Avantatges\n",
    "\n",
    "* Facilitat d'ús, no necessitem programar\n",
    "* Ecosistemes amb multitud d'eines (plugins, templates, etc.,)\n",
    "* Hostings amb plans especials per CMS"
   ]
  },
  {
   "cell_type": "markdown",
   "metadata": {
    "slideshow": {
     "slide_type": "fragment"
    }
   },
   "source": [
    "## Desavantatges\n",
    "\n",
    "* Requeriments d'infraestructura alts (base de dades, motor d'execució ...)\n",
    "* Problemes de seguretat! -> Requereixen molt manteniment"
   ]
  },
  {
   "cell_type": "markdown",
   "metadata": {
    "slideshow": {
     "slide_type": "fragment"
    }
   },
   "source": [
    "<h3 align=\"center\">\n",
    "Per webs senzilles poden NO ser la millor solució:\n",
    "</h3>\n",
    "\n",
    "<h1 align=\"center\">\n",
    "🙈🙈\n",
    "</h1>\n",
    "\n",
    "<h4 align=\"center\">\n",
    "Sensació de matar moscas a cañonazos\n",
    "</h4>"
   ]
  },
  {
   "cell_type": "markdown",
   "metadata": {
    "slideshow": {
     "slide_type": "slide"
    }
   },
   "source": [
    "# ¿Què son els gestors de continguts estàtics (SCMS)?\n",
    "\n",
    "__CMS__ que \"compilen\" els continguts en fitxers estàtics"
   ]
  },
  {
   "cell_type": "markdown",
   "metadata": {
    "slideshow": {
     "slide_type": "slide"
    }
   },
   "source": [
    "# Avantatges i inconvenients dels SCMS\n",
    "\n",
    "## Avantatges\n",
    "\n",
    "* Facilitat d'ús, no necessitem programar\n",
    "* Requeriments d'infraestructura molt petits\n",
    "* Continguts molt ràpids de carregar\n",
    "* Molt poc vulnerables en termes de seguretat\n",
    "* Hostings amb plans especials (inclús gratuits) per pàgines estàtiques"
   ]
  },
  {
   "cell_type": "markdown",
   "metadata": {
    "slideshow": {
     "slide_type": "fragment"
    }
   },
   "source": [
    "## Desavantatges\n",
    "\n",
    "* No poden generar contingut dinàmic (_server-side, javascript sí_)\n",
    "* Ecosistemes d'eines molt més petits que els CMS més coneguts"
   ]
  },
  {
   "cell_type": "markdown",
   "metadata": {
    "slideshow": {
     "slide_type": "slide"
    }
   },
   "source": [
    "# Principals projectes open source\n",
    "\n",
    "### [Jekyll](https://jekyllrb.com/)\n",
    "\n",
    "* Probablement el SCMS més conegut de tots\n",
    "* Llenguatge ruby\n",
    "\n",
    "### [Pelican](https://jekyllrb.com/)\n",
    "\n",
    "* El projecte SCMS en python amb més _activitat_ (ecosistema més gran)\n",
    "\n",
    "\n",
    "### [Lektor](https://jekyllrb.com/)\n",
    "\n",
    "* SCMS minimalista en python\n",
    "* Del creador del microframework web [Flask](http://flask.pocoo.org/)"
   ]
  },
  {
   "cell_type": "markdown",
   "metadata": {
    "slideshow": {
     "slide_type": "slide"
    }
   },
   "source": [
    "# Introducció al SCMS Pelican\n",
    "\n",
    "TODO! HELP NEEDED"
   ]
  },
  {
   "cell_type": "markdown",
   "metadata": {
    "slideshow": {
     "slide_type": "slide"
    }
   },
   "source": [
    "# Demostració de pàgines generades amb Pelican\n",
    "\n",
    "[https://github.com/getpelican/pelican/wiki/Powered-by-Pelican](https://github.com/getpelican/pelican/wiki/Powered-by-Pelican)"
   ]
  },
  {
   "cell_type": "markdown",
   "metadata": {
    "slideshow": {
     "slide_type": "slide"
    }
   },
   "source": [
    "# TALLER PRÀCTIC\n",
    "\n",
    "TODO! HELP NEEDED: https://trello.com/c/hhm44SZF/5-preparar-taller"
   ]
  },
  {
   "cell_type": "markdown",
   "metadata": {
    "collapsed": true,
    "slideshow": {
     "slide_type": "slide"
    }
   },
   "source": [
    "## Gràcies per escoltar! Preguntes?\n",
    "\n",
    "\n",
    "<br><br>\n",
    "\n",
    "| Victor Martin | Xavi Torelló |\n",
    "| --- | --- | --- |\n",
    "| <ul><li><a href=\"https://github.com/victormartingarcia\">https://github.com/victormartingarcia</a></li><li><a href=\"mailto:victor.martin.garcia@gmail.com\">victor.martin.garcia@gmail.com</a></li><li><a href=\"https://twitter.com/victormartin\">@victormartin</a></li></ul>|<ul><li><a href=\"https://github.com/XaviTorello\">https://github.com/XaviTorello</a></li><li><a href=\"mailto:info@xaviertorello.cat\">info@xaviertorello.cat</a></li><li><a href=\"https://twitter.com/gnuites_and\">@gnuites_and</a></li></ul>|\n",
    "\n",
    "<br><br>\n",
    "\n",
    "Slides and data: https://github.com/pygrn/scms\n",
    "\n",
    "\n",
    "Slides presented with 'live reveal' https://github.com/damianavila/RISE\n"
   ]
  }
 ],
 "metadata": {
  "celltoolbar": "Slideshow",
  "kernelspec": {
   "display_name": "Python2 (systemia-research)",
   "language": "python",
   "name": "systemia-research"
  },
  "language_info": {
   "codemirror_mode": {
    "name": "ipython",
    "version": 2
   },
   "file_extension": ".py",
   "mimetype": "text/x-python",
   "name": "python",
   "nbconvert_exporter": "python",
   "pygments_lexer": "ipython2",
   "version": "2.7.13"
  }
 },
 "nbformat": 4,
 "nbformat_minor": 1
}
